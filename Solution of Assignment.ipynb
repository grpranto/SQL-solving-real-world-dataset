{
 "cells": [
  {
   "cell_type": "code",
   "execution_count": 1,
   "metadata": {
    "executionInfo": {
     "elapsed": 2750,
     "status": "ok",
     "timestamp": 1685145641068,
     "user": {
      "displayName": "Md. Golam Rasul",
      "userId": "02954489655167182379"
     },
     "user_tz": -120
    },
    "id": "AQGKHfNQw7Sb"
   },
   "outputs": [],
   "source": [
    "import pandas as pd\n",
    "\n",
    "#Load all three datasets\n",
    "censusDataDf = pd.read_csv(\"ChicagoCensusData.csv\")\n",
    "crimeDataDf = pd.read_csv(\"ChicagoCrimeData.csv\")\n",
    "PublicSchoolsDataDf = pd.read_csv(\"ChicagoPublicSchools.csv\")"
   ]
  },
  {
   "cell_type": "code",
   "execution_count": 2,
   "metadata": {
    "colab": {
     "base_uri": "https://localhost:8080/"
    },
    "executionInfo": {
     "elapsed": 17,
     "status": "ok",
     "timestamp": 1685145641069,
     "user": {
      "displayName": "Md. Golam Rasul",
      "userId": "02954489655167182379"
     },
     "user_tz": -120
    },
    "id": "rrpF__pOyBDD",
    "outputId": "88c12a6f-e664-4a99-dacc-211d9d889ffe"
   },
   "outputs": [
    {
     "name": "stdout",
     "output_type": "stream",
     "text": [
      "<class 'pandas.core.frame.DataFrame'>\n",
      "RangeIndex: 78 entries, 0 to 77\n",
      "Data columns (total 9 columns):\n",
      " #   Column                                        Non-Null Count  Dtype  \n",
      "---  ------                                        --------------  -----  \n",
      " 0   COMMUNITY_AREA_NUMBER                         77 non-null     float64\n",
      " 1   COMMUNITY_AREA_NAME                           78 non-null     object \n",
      " 2   PERCENT_OF_HOUSING_CROWDED                    78 non-null     float64\n",
      " 3   PERCENT_HOUSEHOLDS_BELOW_POVERTY              78 non-null     float64\n",
      " 4   PERCENT_AGED_16__UNEMPLOYED                   78 non-null     float64\n",
      " 5   PERCENT_AGED_25__WITHOUT_HIGH_SCHOOL_DIPLOMA  78 non-null     float64\n",
      " 6   PERCENT_AGED_UNDER_18_OR_OVER_64              78 non-null     float64\n",
      " 7   PER_CAPITA_INCOME                             78 non-null     int64  \n",
      " 8   HARDSHIP_INDEX                                77 non-null     float64\n",
      "dtypes: float64(7), int64(1), object(1)\n",
      "memory usage: 5.6+ KB\n"
     ]
    }
   ],
   "source": [
    "#Info Census Data\n",
    "censusDataDf.info()"
   ]
  },
  {
   "cell_type": "code",
   "execution_count": 3,
   "metadata": {
    "colab": {
     "base_uri": "https://localhost:8080/"
    },
    "executionInfo": {
     "elapsed": 13,
     "status": "ok",
     "timestamp": 1685145641069,
     "user": {
      "displayName": "Md. Golam Rasul",
      "userId": "02954489655167182379"
     },
     "user_tz": -120
    },
    "id": "X9_lt5DcyOH2",
    "outputId": "e1e2f37e-9256-4499-b839-7bbd99358a92"
   },
   "outputs": [
    {
     "name": "stdout",
     "output_type": "stream",
     "text": [
      "<class 'pandas.core.frame.DataFrame'>\n",
      "RangeIndex: 533 entries, 0 to 532\n",
      "Data columns (total 21 columns):\n",
      " #   Column                 Non-Null Count  Dtype  \n",
      "---  ------                 --------------  -----  \n",
      " 0   ID                     533 non-null    int64  \n",
      " 1   CASE_NUMBER            533 non-null    object \n",
      " 2   DATE                   533 non-null    object \n",
      " 3   BLOCK                  533 non-null    object \n",
      " 4   IUCR                   533 non-null    object \n",
      " 5   PRIMARY_TYPE           533 non-null    object \n",
      " 6   DESCRIPTION            533 non-null    object \n",
      " 7   LOCATION_DESCRIPTION   533 non-null    object \n",
      " 8   ARREST                 533 non-null    bool   \n",
      " 9   DOMESTIC               533 non-null    bool   \n",
      " 10  BEAT                   533 non-null    int64  \n",
      " 11  DISTRICT               533 non-null    int64  \n",
      " 12  WARD                   490 non-null    float64\n",
      " 13  COMMUNITY_AREA_NUMBER  490 non-null    float64\n",
      " 14  FBICODE                533 non-null    object \n",
      " 15  X_COORDINATE           529 non-null    float64\n",
      " 16  Y_COORDINATE           529 non-null    float64\n",
      " 17  YEAR                   533 non-null    int64  \n",
      " 18  LATITUDE               529 non-null    float64\n",
      " 19  LONGITUDE              529 non-null    float64\n",
      " 20  LOCATION               529 non-null    object \n",
      "dtypes: bool(2), float64(6), int64(4), object(9)\n",
      "memory usage: 80.3+ KB\n"
     ]
    }
   ],
   "source": [
    "#Info Crime Data\n",
    "crimeDataDf.info()"
   ]
  },
  {
   "cell_type": "code",
   "execution_count": 5,
   "metadata": {
    "colab": {
     "base_uri": "https://localhost:8080/"
    },
    "executionInfo": {
     "elapsed": 11,
     "status": "ok",
     "timestamp": 1685145641070,
     "user": {
      "displayName": "Md. Golam Rasul",
      "userId": "02954489655167182379"
     },
     "user_tz": -120
    },
    "id": "hscJmeDBySDy",
    "outputId": "35d8d075-eecf-4f4a-f216-1a696709ad17"
   },
   "outputs": [
    {
     "name": "stdout",
     "output_type": "stream",
     "text": [
      "<class 'pandas.core.frame.DataFrame'>\n",
      "RangeIndex: 566 entries, 0 to 565\n",
      "Data columns (total 78 columns):\n",
      " #   Column                                            Non-Null Count  Dtype  \n",
      "---  ------                                            --------------  -----  \n",
      " 0   School_ID                                         566 non-null    int64  \n",
      " 1   NAME_OF_SCHOOL                                    566 non-null    object \n",
      " 2   Elementary, Middle, or High School                566 non-null    object \n",
      " 3   Street_Address                                    566 non-null    object \n",
      " 4   City                                              566 non-null    object \n",
      " 5   State                                             566 non-null    object \n",
      " 6   ZIP_Code                                          566 non-null    int64  \n",
      " 7   Phone_Number                                      566 non-null    object \n",
      " 8   Link                                              565 non-null    object \n",
      " 9   Network_Manager                                   566 non-null    object \n",
      " 10  Collaborative_Name                                566 non-null    object \n",
      " 11  Adequate_Yearly_Progress_Made_                    566 non-null    object \n",
      " 12  Track_Schedule                                    566 non-null    object \n",
      " 13  CPS_Performance_Policy_Status                     566 non-null    object \n",
      " 14  CPS_Performance_Policy_Level                      566 non-null    object \n",
      " 15  HEALTHY_SCHOOL_CERTIFIED                          566 non-null    object \n",
      " 16  Safety_Icon                                       566 non-null    object \n",
      " 17  SAFETY_SCORE                                      513 non-null    float64\n",
      " 18  Family_Involvement_Icon                           566 non-null    object \n",
      " 19  Family_Involvement_Score                          566 non-null    object \n",
      " 20  Environment_Icon                                  566 non-null    object \n",
      " 21  Environment_Score                                 513 non-null    float64\n",
      " 22  Instruction_Icon                                  566 non-null    object \n",
      " 23  Instruction_Score                                 513 non-null    float64\n",
      " 24  Leaders_Icon                                      566 non-null    object \n",
      " 25  Leaders_Score                                     566 non-null    object \n",
      " 26  Teachers_Icon                                     566 non-null    object \n",
      " 27  Teachers_Score                                    566 non-null    object \n",
      " 28  Parent_Engagement_Icon                            566 non-null    object \n",
      " 29  Parent_Engagement_Score                           566 non-null    object \n",
      " 30  Parent_Environment_Icon                           566 non-null    object \n",
      " 31  Parent_Environment_Score                          566 non-null    object \n",
      " 32  AVERAGE_STUDENT_ATTENDANCE                        565 non-null    object \n",
      " 33  Rate_of_Misconducts__per_100_students_            566 non-null    float64\n",
      " 34  Average_Teacher_Attendance                        566 non-null    object \n",
      " 35  Individualized_Education_Program_Compliance_Rate  566 non-null    object \n",
      " 36  Pk_2_Literacy__                                   566 non-null    object \n",
      " 37  Pk_2_Math__                                       566 non-null    object \n",
      " 38  Gr3_5_Grade_Level_Math__                          566 non-null    object \n",
      " 39  Gr3_5_Grade_Level_Read__                          566 non-null    object \n",
      " 40  Gr3_5_Keep_Pace_Read__                            566 non-null    object \n",
      " 41  Gr3_5_Keep_Pace_Math__                            566 non-null    object \n",
      " 42  Gr6_8_Grade_Level_Math__                          566 non-null    object \n",
      " 43  Gr6_8_Grade_Level_Read__                          566 non-null    object \n",
      " 44  Gr6_8_Keep_Pace_Math_                             566 non-null    object \n",
      " 45  Gr6_8_Keep_Pace_Read__                            566 non-null    object \n",
      " 46  Gr_8_Explore_Math__                               566 non-null    object \n",
      " 47  Gr_8_Explore_Read__                               566 non-null    object \n",
      " 48  ISAT_Exceeding_Math__                             476 non-null    float64\n",
      " 49  ISAT_Exceeding_Reading__                          476 non-null    float64\n",
      " 50  ISAT_Value_Add_Math                               468 non-null    float64\n",
      " 51  ISAT_Value_Add_Read                               468 non-null    float64\n",
      " 52  ISAT_Value_Add_Color_Math                         566 non-null    object \n",
      " 53  ISAT_Value_Add_Color_Read                         566 non-null    object \n",
      " 54  Students_Taking__Algebra__                        566 non-null    object \n",
      " 55  Students_Passing__Algebra__                       566 non-null    object \n",
      " 56  9th Grade EXPLORE (2009)                          566 non-null    object \n",
      " 57  9th Grade EXPLORE (2010)                          566 non-null    object \n",
      " 58  10th Grade PLAN (2009)                            566 non-null    object \n",
      " 59  10th Grade PLAN (2010)                            566 non-null    object \n",
      " 60  Net_Change_EXPLORE_and_PLAN                       566 non-null    object \n",
      " 61  11th Grade Average ACT (2011)                     566 non-null    object \n",
      " 62  Net_Change_PLAN_and_ACT                           566 non-null    object \n",
      " 63  College_Eligibility__                             566 non-null    object \n",
      " 64  Graduation_Rate__                                 566 non-null    object \n",
      " 65  College_Enrollment_Rate__                         566 non-null    object \n",
      " 66  COLLEGE_ENROLLMENT                                566 non-null    int64  \n",
      " 67  General_Services_Route                            566 non-null    int64  \n",
      " 68  Freshman_on_Track_Rate__                          566 non-null    object \n",
      " 69  X_COORDINATE                                      566 non-null    float64\n",
      " 70  Y_COORDINATE                                      566 non-null    float64\n",
      " 71  Latitude                                          566 non-null    float64\n",
      " 72  Longitude                                         566 non-null    float64\n",
      " 73  COMMUNITY_AREA_NUMBER                             566 non-null    int64  \n",
      " 74  COMMUNITY_AREA_NAME                               566 non-null    object \n",
      " 75  Ward                                              566 non-null    int64  \n",
      " 76  Police_District                                   566 non-null    int64  \n",
      " 77  Location                                          566 non-null    object \n",
      "dtypes: float64(12), int64(7), object(59)\n",
      "memory usage: 345.0+ KB\n"
     ]
    }
   ],
   "source": [
    "#Info PublicSchools Data\n",
    "PublicSchoolsDataDf.info()"
   ]
  },
  {
   "cell_type": "code",
   "execution_count": 6,
   "metadata": {
    "executionInfo": {
     "elapsed": 9,
     "status": "ok",
     "timestamp": 1685145641071,
     "user": {
      "displayName": "Md. Golam Rasul",
      "userId": "02954489655167182379"
     },
     "user_tz": -120
    },
    "id": "j01UxA121rRt"
   },
   "outputs": [],
   "source": [
    "#Connecting to the sqlite Database\n",
    "\n",
    "import csv, sqlite3\n",
    "con = sqlite3.connect(\"AssignmentDB.db\")\n",
    "cur = con.cursor()"
   ]
  },
  {
   "cell_type": "code",
   "execution_count": 21,
   "metadata": {
    "colab": {
     "base_uri": "https://localhost:8080/"
    },
    "executionInfo": {
     "elapsed": 17859,
     "status": "ok",
     "timestamp": 1685145658921,
     "user": {
      "displayName": "Md. Golam Rasul",
      "userId": "02954489655167182379"
     },
     "user_tz": -120
    },
    "id": "Mw_H3wL246Nb",
    "outputId": "3ae576f6-26f2-40b7-a446-67527d3600d9"
   },
   "outputs": [],
   "source": [
    "# !pip install sqlalchemy==1.4.4\n",
    "# !pip install ibm_db_sa\n",
    "# !pip install ipython-sql"
   ]
  },
  {
   "cell_type": "code",
   "execution_count": 23,
   "metadata": {
    "executionInfo": {
     "elapsed": 450,
     "status": "ok",
     "timestamp": 1685145659366,
     "user": {
      "displayName": "Md. Golam Rasul",
      "userId": "02954489655167182379"
     },
     "user_tz": -120
    },
    "id": "WKYGba2q2DuL"
   },
   "outputs": [
    {
     "name": "stdout",
     "output_type": "stream",
     "text": [
      "The sql extension is already loaded. To reload it, use:\n",
      "  %reload_ext sql\n"
     ]
    }
   ],
   "source": [
    "%load_ext sql\n",
    "%sql sqlite:///AssignmentDB.db"
   ]
  },
  {
   "cell_type": "code",
   "execution_count": 24,
   "metadata": {
    "colab": {
     "base_uri": "https://localhost:8080/"
    },
    "executionInfo": {
     "elapsed": 46,
     "status": "ok",
     "timestamp": 1685145659367,
     "user": {
      "displayName": "Md. Golam Rasul",
      "userId": "02954489655167182379"
     },
     "user_tz": -120
    },
    "id": "u8nyAAoW2N06",
    "outputId": "52e9a396-08a4-42bc-ff3a-26906249364b"
   },
   "outputs": [
    {
     "data": {
      "text/plain": [
       "566"
      ]
     },
     "execution_count": 24,
     "metadata": {},
     "output_type": "execute_result"
    }
   ],
   "source": [
    "#converting df into sql\n",
    "#to_sql -> Mandatory parametrs:name(Table Name) and Database Connection\n",
    "\n",
    "censusDataDf.to_sql(\"CENSUS_DATA\", con, if_exists='replace', index=False,method=\"multi\")\n",
    "crimeDataDf.to_sql(\"CHICAGO_CRIME_DATA\", con, if_exists='replace', index=False,method=\"multi\")\n",
    "PublicSchoolsDataDf.to_sql(\"CHICAGO_PUBLIC_SCHOOLS_DATA\", con, if_exists='replace', index=False,method=\"multi\")"
   ]
  },
  {
   "cell_type": "code",
   "execution_count": 25,
   "metadata": {
    "colab": {
     "base_uri": "https://localhost:8080/",
     "height": 461
    },
    "executionInfo": {
     "elapsed": 257,
     "status": "ok",
     "timestamp": 1685146550807,
     "user": {
      "displayName": "Md. Golam Rasul",
      "userId": "02954489655167182379"
     },
     "user_tz": -120
    },
    "id": "JrRxLJPl5m6v",
    "outputId": "ae4b24af-e0b4-4a68-f1ac-023feb90293b"
   },
   "outputs": [
    {
     "name": "stdout",
     "output_type": "stream",
     "text": [
      " * sqlite:///AssignmentDB.db\n",
      "Done.\n"
     ]
    },
    {
     "data": {
      "text/html": [
       "<table>\n",
       "    <thead>\n",
       "        <tr>\n",
       "            <th>School_ID</th>\n",
       "            <th>NAME_OF_SCHOOL</th>\n",
       "            <th>Elementary, Middle, or High School</th>\n",
       "            <th>Street_Address</th>\n",
       "            <th>City</th>\n",
       "            <th>State</th>\n",
       "            <th>ZIP_Code</th>\n",
       "            <th>Phone_Number</th>\n",
       "            <th>Link</th>\n",
       "            <th>Network_Manager</th>\n",
       "            <th>Collaborative_Name</th>\n",
       "            <th>Adequate_Yearly_Progress_Made_</th>\n",
       "            <th>Track_Schedule</th>\n",
       "            <th>CPS_Performance_Policy_Status</th>\n",
       "            <th>CPS_Performance_Policy_Level</th>\n",
       "            <th>HEALTHY_SCHOOL_CERTIFIED</th>\n",
       "            <th>Safety_Icon</th>\n",
       "            <th>SAFETY_SCORE</th>\n",
       "            <th>Family_Involvement_Icon</th>\n",
       "            <th>Family_Involvement_Score</th>\n",
       "            <th>Environment_Icon</th>\n",
       "            <th>Environment_Score</th>\n",
       "            <th>Instruction_Icon</th>\n",
       "            <th>Instruction_Score</th>\n",
       "            <th>Leaders_Icon</th>\n",
       "            <th>Leaders_Score</th>\n",
       "            <th>Teachers_Icon</th>\n",
       "            <th>Teachers_Score</th>\n",
       "            <th>Parent_Engagement_Icon</th>\n",
       "            <th>Parent_Engagement_Score</th>\n",
       "            <th>Parent_Environment_Icon</th>\n",
       "            <th>Parent_Environment_Score</th>\n",
       "            <th>AVERAGE_STUDENT_ATTENDANCE</th>\n",
       "            <th>Rate_of_Misconducts__per_100_students_</th>\n",
       "            <th>Average_Teacher_Attendance</th>\n",
       "            <th>Individualized_Education_Program_Compliance_Rate</th>\n",
       "            <th>Pk_2_Literacy__</th>\n",
       "            <th>Pk_2_Math__</th>\n",
       "            <th>Gr3_5_Grade_Level_Math__</th>\n",
       "            <th>Gr3_5_Grade_Level_Read__</th>\n",
       "            <th>Gr3_5_Keep_Pace_Read__</th>\n",
       "            <th>Gr3_5_Keep_Pace_Math__</th>\n",
       "            <th>Gr6_8_Grade_Level_Math__</th>\n",
       "            <th>Gr6_8_Grade_Level_Read__</th>\n",
       "            <th>Gr6_8_Keep_Pace_Math_</th>\n",
       "            <th>Gr6_8_Keep_Pace_Read__</th>\n",
       "            <th>Gr_8_Explore_Math__</th>\n",
       "            <th>Gr_8_Explore_Read__</th>\n",
       "            <th>ISAT_Exceeding_Math__</th>\n",
       "            <th>ISAT_Exceeding_Reading__</th>\n",
       "            <th>ISAT_Value_Add_Math</th>\n",
       "            <th>ISAT_Value_Add_Read</th>\n",
       "            <th>ISAT_Value_Add_Color_Math</th>\n",
       "            <th>ISAT_Value_Add_Color_Read</th>\n",
       "            <th>Students_Taking__Algebra__</th>\n",
       "            <th>Students_Passing__Algebra__</th>\n",
       "            <th>9th Grade EXPLORE (2009)</th>\n",
       "            <th>9th Grade EXPLORE (2010)</th>\n",
       "            <th>10th Grade PLAN (2009)</th>\n",
       "            <th>10th Grade PLAN (2010)</th>\n",
       "            <th>Net_Change_EXPLORE_and_PLAN</th>\n",
       "            <th>11th Grade Average ACT (2011)</th>\n",
       "            <th>Net_Change_PLAN_and_ACT</th>\n",
       "            <th>College_Eligibility__</th>\n",
       "            <th>Graduation_Rate__</th>\n",
       "            <th>College_Enrollment_Rate__</th>\n",
       "            <th>COLLEGE_ENROLLMENT</th>\n",
       "            <th>General_Services_Route</th>\n",
       "            <th>Freshman_on_Track_Rate__</th>\n",
       "            <th>X_COORDINATE</th>\n",
       "            <th>Y_COORDINATE</th>\n",
       "            <th>Latitude</th>\n",
       "            <th>Longitude</th>\n",
       "            <th>COMMUNITY_AREA_NUMBER</th>\n",
       "            <th>COMMUNITY_AREA_NAME</th>\n",
       "            <th>Ward</th>\n",
       "            <th>Police_District</th>\n",
       "            <th>Location</th>\n",
       "        </tr>\n",
       "    </thead>\n",
       "    <tbody>\n",
       "        <tr>\n",
       "            <td>610038</td>\n",
       "            <td>Abraham Lincoln Elementary School</td>\n",
       "            <td>ES</td>\n",
       "            <td>615 W Kemper Pl</td>\n",
       "            <td>Chicago</td>\n",
       "            <td>IL</td>\n",
       "            <td>60614</td>\n",
       "            <td>(773) 534-5720</td>\n",
       "            <td>http://schoolreports.cps.edu/SchoolProgressReport_Eng/Spring2011Eng_610038.pdf</td>\n",
       "            <td>Fullerton Elementary Network</td>\n",
       "            <td>NORTH-NORTHWEST SIDE COLLABORATIVE</td>\n",
       "            <td>No</td>\n",
       "            <td>Standard</td>\n",
       "            <td>Not on Probation</td>\n",
       "            <td>Level 1</td>\n",
       "            <td>Yes</td>\n",
       "            <td>Very Strong</td>\n",
       "            <td>99.0</td>\n",
       "            <td>Very Strong</td>\n",
       "            <td>99</td>\n",
       "            <td>Strong</td>\n",
       "            <td>74.0</td>\n",
       "            <td>Strong</td>\n",
       "            <td>66.0</td>\n",
       "            <td>Weak</td>\n",
       "            <td>65</td>\n",
       "            <td>Strong</td>\n",
       "            <td>70</td>\n",
       "            <td>Strong</td>\n",
       "            <td>56</td>\n",
       "            <td>Average</td>\n",
       "            <td>47</td>\n",
       "            <td>96.00%</td>\n",
       "            <td>2.0</td>\n",
       "            <td>96.40%</td>\n",
       "            <td>95.80%</td>\n",
       "            <td>80.1</td>\n",
       "            <td>43.3</td>\n",
       "            <td>89.6</td>\n",
       "            <td>84.9</td>\n",
       "            <td>60.7</td>\n",
       "            <td>62.6</td>\n",
       "            <td>81.9</td>\n",
       "            <td>85.2</td>\n",
       "            <td>52</td>\n",
       "            <td>62.4</td>\n",
       "            <td>66.3</td>\n",
       "            <td>77.9</td>\n",
       "            <td>69.7</td>\n",
       "            <td>64.4</td>\n",
       "            <td>0.2</td>\n",
       "            <td>0.9</td>\n",
       "            <td>Yellow</td>\n",
       "            <td>Green</td>\n",
       "            <td>67.1</td>\n",
       "            <td>54.5</td>\n",
       "            <td>NDA</td>\n",
       "            <td>NDA</td>\n",
       "            <td>NDA</td>\n",
       "            <td>NDA</td>\n",
       "            <td>NDA</td>\n",
       "            <td>NDA</td>\n",
       "            <td>NDA</td>\n",
       "            <td>NDA</td>\n",
       "            <td>NDA</td>\n",
       "            <td>NDA</td>\n",
       "            <td>813</td>\n",
       "            <td>33</td>\n",
       "            <td>NDA</td>\n",
       "            <td>1171699.458</td>\n",
       "            <td>1915829.428</td>\n",
       "            <td>41.92449696</td>\n",
       "            <td>-87.64452163</td>\n",
       "            <td>7</td>\n",
       "            <td>LINCOLN PARK</td>\n",
       "            <td>43</td>\n",
       "            <td>18</td>\n",
       "            <td>(41.92449696, -87.64452163)</td>\n",
       "        </tr>\n",
       "        <tr>\n",
       "            <td>610281</td>\n",
       "            <td>Adam Clayton Powell Paideia Community Academy Elementary School</td>\n",
       "            <td>ES</td>\n",
       "            <td>7511 S South Shore Dr</td>\n",
       "            <td>Chicago</td>\n",
       "            <td>IL</td>\n",
       "            <td>60649</td>\n",
       "            <td>(773) 535-6650</td>\n",
       "            <td>http://schoolreports.cps.edu/SchoolProgressReport_Eng/Spring2011Eng_610281.pdf</td>\n",
       "            <td>Skyway Elementary Network</td>\n",
       "            <td>SOUTH SIDE COLLABORATIVE</td>\n",
       "            <td>No</td>\n",
       "            <td>Track_E</td>\n",
       "            <td>Not on Probation</td>\n",
       "            <td>Level 1</td>\n",
       "            <td>No</td>\n",
       "            <td>Average</td>\n",
       "            <td>54.0</td>\n",
       "            <td>Strong</td>\n",
       "            <td>66</td>\n",
       "            <td>Strong</td>\n",
       "            <td>74.0</td>\n",
       "            <td>Very Strong</td>\n",
       "            <td>84.0</td>\n",
       "            <td>Weak</td>\n",
       "            <td>63</td>\n",
       "            <td>Strong</td>\n",
       "            <td>76</td>\n",
       "            <td>Weak</td>\n",
       "            <td>46</td>\n",
       "            <td>Average</td>\n",
       "            <td>50</td>\n",
       "            <td>95.60%</td>\n",
       "            <td>15.7</td>\n",
       "            <td>95.30%</td>\n",
       "            <td>100.00%</td>\n",
       "            <td>62.4</td>\n",
       "            <td>51.7</td>\n",
       "            <td>21.9</td>\n",
       "            <td>15.1</td>\n",
       "            <td>29</td>\n",
       "            <td>42.8</td>\n",
       "            <td>38.5</td>\n",
       "            <td>27.4</td>\n",
       "            <td>44.8</td>\n",
       "            <td>42.7</td>\n",
       "            <td>14.1</td>\n",
       "            <td>34.4</td>\n",
       "            <td>16.8</td>\n",
       "            <td>16.5</td>\n",
       "            <td>0.7</td>\n",
       "            <td>1.4</td>\n",
       "            <td>Green</td>\n",
       "            <td>Green</td>\n",
       "            <td>17.2</td>\n",
       "            <td>27.3</td>\n",
       "            <td>NDA</td>\n",
       "            <td>NDA</td>\n",
       "            <td>NDA</td>\n",
       "            <td>NDA</td>\n",
       "            <td>NDA</td>\n",
       "            <td>NDA</td>\n",
       "            <td>NDA</td>\n",
       "            <td>NDA</td>\n",
       "            <td>NDA</td>\n",
       "            <td>NDA</td>\n",
       "            <td>521</td>\n",
       "            <td>46</td>\n",
       "            <td>NDA</td>\n",
       "            <td>1196129.985</td>\n",
       "            <td>1856209.466</td>\n",
       "            <td>41.76032435</td>\n",
       "            <td>-87.55673627</td>\n",
       "            <td>43</td>\n",
       "            <td>SOUTH SHORE</td>\n",
       "            <td>7</td>\n",
       "            <td>4</td>\n",
       "            <td>(41.76032435, -87.55673627)</td>\n",
       "        </tr>\n",
       "        <tr>\n",
       "            <td>610185</td>\n",
       "            <td>Adlai E Stevenson Elementary School</td>\n",
       "            <td>ES</td>\n",
       "            <td>8010 S Kostner Ave</td>\n",
       "            <td>Chicago</td>\n",
       "            <td>IL</td>\n",
       "            <td>60652</td>\n",
       "            <td>(773) 535-2280</td>\n",
       "            <td>http://schoolreports.cps.edu/SchoolProgressReport_Eng/Spring2011Eng_610185.pdf</td>\n",
       "            <td>Midway Elementary Network</td>\n",
       "            <td>SOUTHWEST SIDE COLLABORATIVE</td>\n",
       "            <td>No</td>\n",
       "            <td>Standard</td>\n",
       "            <td>Not on Probation</td>\n",
       "            <td>Level 2</td>\n",
       "            <td>No</td>\n",
       "            <td>Strong</td>\n",
       "            <td>61.0</td>\n",
       "            <td>NDA</td>\n",
       "            <td>NDA</td>\n",
       "            <td>Average</td>\n",
       "            <td>50.0</td>\n",
       "            <td>Weak</td>\n",
       "            <td>36.0</td>\n",
       "            <td>Weak</td>\n",
       "            <td>NDA</td>\n",
       "            <td>NDA</td>\n",
       "            <td>NDA</td>\n",
       "            <td>Average</td>\n",
       "            <td>47</td>\n",
       "            <td>Weak</td>\n",
       "            <td>41</td>\n",
       "            <td>95.70%</td>\n",
       "            <td>2.3</td>\n",
       "            <td>94.70%</td>\n",
       "            <td>98.30%</td>\n",
       "            <td>53.7</td>\n",
       "            <td>26.6</td>\n",
       "            <td>38.3</td>\n",
       "            <td>34.7</td>\n",
       "            <td>43.7</td>\n",
       "            <td>57.3</td>\n",
       "            <td>48.8</td>\n",
       "            <td>39.2</td>\n",
       "            <td>46.8</td>\n",
       "            <td>44</td>\n",
       "            <td>7.5</td>\n",
       "            <td>21.9</td>\n",
       "            <td>18.3</td>\n",
       "            <td>15.5</td>\n",
       "            <td>-0.9</td>\n",
       "            <td>-1.0</td>\n",
       "            <td>Red</td>\n",
       "            <td>Red</td>\n",
       "            <td>NDA</td>\n",
       "            <td>NDA</td>\n",
       "            <td>NDA</td>\n",
       "            <td>NDA</td>\n",
       "            <td>NDA</td>\n",
       "            <td>NDA</td>\n",
       "            <td>NDA</td>\n",
       "            <td>NDA</td>\n",
       "            <td>NDA</td>\n",
       "            <td>NDA</td>\n",
       "            <td>NDA</td>\n",
       "            <td>NDA</td>\n",
       "            <td>1324</td>\n",
       "            <td>44</td>\n",
       "            <td>NDA</td>\n",
       "            <td>1148427.165</td>\n",
       "            <td>1851012.215</td>\n",
       "            <td>41.74711093</td>\n",
       "            <td>-87.73170248</td>\n",
       "            <td>70</td>\n",
       "            <td>ASHBURN</td>\n",
       "            <td>13</td>\n",
       "            <td>8</td>\n",
       "            <td>(41.74711093, -87.73170248)</td>\n",
       "        </tr>\n",
       "        <tr>\n",
       "            <td>609993</td>\n",
       "            <td>Agustin Lara Elementary Academy</td>\n",
       "            <td>ES</td>\n",
       "            <td>4619 S Wolcott Ave</td>\n",
       "            <td>Chicago</td>\n",
       "            <td>IL</td>\n",
       "            <td>60609</td>\n",
       "            <td>(773) 535-4389</td>\n",
       "            <td>http://schoolreports.cps.edu/SchoolProgressReport_Eng/Spring2011Eng_609993.pdf</td>\n",
       "            <td>Pershing Elementary Network</td>\n",
       "            <td>SOUTHWEST SIDE COLLABORATIVE</td>\n",
       "            <td>No</td>\n",
       "            <td>Track_E</td>\n",
       "            <td>Not on Probation</td>\n",
       "            <td>Level 1</td>\n",
       "            <td>No</td>\n",
       "            <td>Average</td>\n",
       "            <td>56.0</td>\n",
       "            <td>Average</td>\n",
       "            <td>44</td>\n",
       "            <td>Average</td>\n",
       "            <td>45.0</td>\n",
       "            <td>Weak</td>\n",
       "            <td>37.0</td>\n",
       "            <td>Weak</td>\n",
       "            <td>65</td>\n",
       "            <td>Average</td>\n",
       "            <td>48</td>\n",
       "            <td>Average</td>\n",
       "            <td>53</td>\n",
       "            <td>Strong</td>\n",
       "            <td>58</td>\n",
       "            <td>95.50%</td>\n",
       "            <td>10.4</td>\n",
       "            <td>95.80%</td>\n",
       "            <td>100.00%</td>\n",
       "            <td>76.9</td>\n",
       "            <td>NDA</td>\n",
       "            <td>26</td>\n",
       "            <td>24.7</td>\n",
       "            <td>61.8</td>\n",
       "            <td>49.7</td>\n",
       "            <td>39.2</td>\n",
       "            <td>27.2</td>\n",
       "            <td>69.7</td>\n",
       "            <td>60.6</td>\n",
       "            <td>9.1</td>\n",
       "            <td>18.2</td>\n",
       "            <td>11.1</td>\n",
       "            <td>9.6</td>\n",
       "            <td>0.9</td>\n",
       "            <td>2.4</td>\n",
       "            <td>Green</td>\n",
       "            <td>Green</td>\n",
       "            <td>42.9</td>\n",
       "            <td>25</td>\n",
       "            <td>NDA</td>\n",
       "            <td>NDA</td>\n",
       "            <td>NDA</td>\n",
       "            <td>NDA</td>\n",
       "            <td>NDA</td>\n",
       "            <td>NDA</td>\n",
       "            <td>NDA</td>\n",
       "            <td>NDA</td>\n",
       "            <td>NDA</td>\n",
       "            <td>NDA</td>\n",
       "            <td>556</td>\n",
       "            <td>42</td>\n",
       "            <td>NDA</td>\n",
       "            <td>1164504.29</td>\n",
       "            <td>1873959.199</td>\n",
       "            <td>41.8097569</td>\n",
       "            <td>-87.6721446</td>\n",
       "            <td>61</td>\n",
       "            <td>NEW CITY</td>\n",
       "            <td>20</td>\n",
       "            <td>9</td>\n",
       "            <td>(41.8097569, -87.6721446)</td>\n",
       "        </tr>\n",
       "        <tr>\n",
       "            <td>610513</td>\n",
       "            <td>Air Force Academy High School</td>\n",
       "            <td>HS</td>\n",
       "            <td>3630 S Wells St</td>\n",
       "            <td>Chicago</td>\n",
       "            <td>IL</td>\n",
       "            <td>60609</td>\n",
       "            <td>(773) 535-1590</td>\n",
       "            <td>http://schoolreports.cps.edu/SchoolProgressReport_Eng/Spring2011Eng_610513.pdf</td>\n",
       "            <td>Southwest Side High School Network</td>\n",
       "            <td>SOUTHWEST SIDE COLLABORATIVE</td>\n",
       "            <td>NDA</td>\n",
       "            <td>Standard</td>\n",
       "            <td>Not on Probation</td>\n",
       "            <td>Not Enough Data</td>\n",
       "            <td>Yes</td>\n",
       "            <td>Average</td>\n",
       "            <td>49.0</td>\n",
       "            <td>Strong</td>\n",
       "            <td>60</td>\n",
       "            <td>Strong</td>\n",
       "            <td>60.0</td>\n",
       "            <td>Average</td>\n",
       "            <td>55.0</td>\n",
       "            <td>Weak</td>\n",
       "            <td>45</td>\n",
       "            <td>Average</td>\n",
       "            <td>54</td>\n",
       "            <td>Average</td>\n",
       "            <td>53</td>\n",
       "            <td>Average</td>\n",
       "            <td>49</td>\n",
       "            <td>93.30%</td>\n",
       "            <td>15.6</td>\n",
       "            <td>96.90%</td>\n",
       "            <td>100.00%</td>\n",
       "            <td>NDA</td>\n",
       "            <td>NDA</td>\n",
       "            <td>NDA</td>\n",
       "            <td>NDA</td>\n",
       "            <td>NDA</td>\n",
       "            <td>NDA</td>\n",
       "            <td>NDA</td>\n",
       "            <td>NDA</td>\n",
       "            <td>NDA</td>\n",
       "            <td>NDA</td>\n",
       "            <td>NDA</td>\n",
       "            <td>NDA</td>\n",
       "            <td>None</td>\n",
       "            <td>None</td>\n",
       "            <td>None</td>\n",
       "            <td>None</td>\n",
       "            <td>NDA</td>\n",
       "            <td>NDA</td>\n",
       "            <td>NDA</td>\n",
       "            <td>NDA</td>\n",
       "            <td>14.6</td>\n",
       "            <td>14.8</td>\n",
       "            <td>NDA</td>\n",
       "            <td>16</td>\n",
       "            <td>1.4</td>\n",
       "            <td>NDA</td>\n",
       "            <td>NDA</td>\n",
       "            <td>NDA</td>\n",
       "            <td>NDA</td>\n",
       "            <td>NDA</td>\n",
       "            <td>302</td>\n",
       "            <td>40</td>\n",
       "            <td>91.8</td>\n",
       "            <td>1175177.622</td>\n",
       "            <td>1880745.126</td>\n",
       "            <td>41.82814609</td>\n",
       "            <td>-87.63279369</td>\n",
       "            <td>34</td>\n",
       "            <td>ARMOUR SQUARE</td>\n",
       "            <td>11</td>\n",
       "            <td>9</td>\n",
       "            <td>(41.82814609, -87.63279369)</td>\n",
       "        </tr>\n",
       "    </tbody>\n",
       "</table>"
      ],
      "text/plain": [
       "[(610038, 'Abraham Lincoln Elementary School', 'ES', '615 W Kemper Pl', 'Chicago', 'IL', 60614, '(773) 534-5720', 'http://schoolreports.cps.edu/SchoolProgressReport_Eng/Spring2011Eng_610038.pdf', 'Fullerton Elementary Network', 'NORTH-NORTHWEST SIDE COLLABORATIVE', 'No', 'Standard', 'Not on Probation', 'Level 1', 'Yes', 'Very Strong', 99.0, 'Very Strong', '99', 'Strong', 74.0, 'Strong', 66.0, 'Weak', '65', 'Strong', '70', 'Strong', '56', 'Average', '47', '96.00%', 2.0, '96.40%', '95.80%', '80.1', '43.3', '89.6', '84.9', '60.7', '62.6', '81.9', '85.2', '52', '62.4', '66.3', '77.9', 69.7, 64.4, 0.2, 0.9, 'Yellow', 'Green', '67.1', '54.5', 'NDA', 'NDA', 'NDA', 'NDA', 'NDA', 'NDA', 'NDA', 'NDA', 'NDA', 'NDA', 813, 33, 'NDA', 1171699.458, 1915829.428, 41.92449696, -87.64452163, 7, 'LINCOLN PARK', 43, 18, '(41.92449696, -87.64452163)'),\n",
       " (610281, 'Adam Clayton Powell Paideia Community Academy Elementary School', 'ES', '7511 S South Shore Dr', 'Chicago', 'IL', 60649, '(773) 535-6650', 'http://schoolreports.cps.edu/SchoolProgressReport_Eng/Spring2011Eng_610281.pdf', 'Skyway Elementary Network', 'SOUTH SIDE COLLABORATIVE', 'No', 'Track_E', 'Not on Probation', 'Level 1', 'No', 'Average', 54.0, 'Strong', '66', 'Strong', 74.0, 'Very Strong', 84.0, 'Weak', '63', 'Strong', '76', 'Weak', '46', 'Average', '50', '95.60%', 15.7, '95.30%', '100.00%', '62.4', '51.7', '21.9', '15.1', '29', '42.8', '38.5', '27.4', '44.8', '42.7', '14.1', '34.4', 16.8, 16.5, 0.7, 1.4, 'Green', 'Green', '17.2', '27.3', 'NDA', 'NDA', 'NDA', 'NDA', 'NDA', 'NDA', 'NDA', 'NDA', 'NDA', 'NDA', 521, 46, 'NDA', 1196129.985, 1856209.466, 41.76032435, -87.55673627, 43, 'SOUTH SHORE', 7, 4, '(41.76032435, -87.55673627)'),\n",
       " (610185, 'Adlai E Stevenson Elementary School', 'ES', '8010 S Kostner Ave', 'Chicago', 'IL', 60652, '(773) 535-2280', 'http://schoolreports.cps.edu/SchoolProgressReport_Eng/Spring2011Eng_610185.pdf', 'Midway Elementary Network', 'SOUTHWEST SIDE COLLABORATIVE', 'No', 'Standard', 'Not on Probation', 'Level 2', 'No', 'Strong', 61.0, 'NDA', 'NDA', 'Average', 50.0, 'Weak', 36.0, 'Weak', 'NDA', 'NDA', 'NDA', 'Average', '47', 'Weak', '41', '95.70%', 2.3, '94.70%', '98.30%', '53.7', '26.6', '38.3', '34.7', '43.7', '57.3', '48.8', '39.2', '46.8', '44', '7.5', '21.9', 18.3, 15.5, -0.9, -1.0, 'Red', 'Red', 'NDA', 'NDA', 'NDA', 'NDA', 'NDA', 'NDA', 'NDA', 'NDA', 'NDA', 'NDA', 'NDA', 'NDA', 1324, 44, 'NDA', 1148427.165, 1851012.215, 41.74711093, -87.73170248, 70, 'ASHBURN', 13, 8, '(41.74711093, -87.73170248)'),\n",
       " (609993, 'Agustin Lara Elementary Academy', 'ES', '4619 S Wolcott Ave', 'Chicago', 'IL', 60609, '(773) 535-4389', 'http://schoolreports.cps.edu/SchoolProgressReport_Eng/Spring2011Eng_609993.pdf', 'Pershing Elementary Network', 'SOUTHWEST SIDE COLLABORATIVE', 'No', 'Track_E', 'Not on Probation', 'Level 1', 'No', 'Average', 56.0, 'Average', '44', 'Average', 45.0, 'Weak', 37.0, 'Weak', '65', 'Average', '48', 'Average', '53', 'Strong', '58', '95.50%', 10.4, '95.80%', '100.00%', '76.9', 'NDA', '26', '24.7', '61.8', '49.7', '39.2', '27.2', '69.7', '60.6', '9.1', '18.2', 11.1, 9.6, 0.9, 2.4, 'Green', 'Green', '42.9', '25', 'NDA', 'NDA', 'NDA', 'NDA', 'NDA', 'NDA', 'NDA', 'NDA', 'NDA', 'NDA', 556, 42, 'NDA', 1164504.29, 1873959.199, 41.8097569, -87.6721446, 61, 'NEW CITY', 20, 9, '(41.8097569, -87.6721446)'),\n",
       " (610513, 'Air Force Academy High School', 'HS', '3630 S Wells St', 'Chicago', 'IL', 60609, '(773) 535-1590', 'http://schoolreports.cps.edu/SchoolProgressReport_Eng/Spring2011Eng_610513.pdf', 'Southwest Side High School Network', 'SOUTHWEST SIDE COLLABORATIVE', 'NDA', 'Standard', 'Not on Probation', 'Not Enough Data', 'Yes', 'Average', 49.0, 'Strong', '60', 'Strong', 60.0, 'Average', 55.0, 'Weak', '45', 'Average', '54', 'Average', '53', 'Average', '49', '93.30%', 15.6, '96.90%', '100.00%', 'NDA', 'NDA', 'NDA', 'NDA', 'NDA', 'NDA', 'NDA', 'NDA', 'NDA', 'NDA', 'NDA', 'NDA', None, None, None, None, 'NDA', 'NDA', 'NDA', 'NDA', '14.6', '14.8', 'NDA', '16', '1.4', 'NDA', 'NDA', 'NDA', 'NDA', 'NDA', 302, 40, '91.8', 1175177.622, 1880745.126, 41.82814609, -87.63279369, 34, 'ARMOUR SQUARE', 11, 9, '(41.82814609, -87.63279369)')]"
      ]
     },
     "execution_count": 25,
     "metadata": {},
     "output_type": "execute_result"
    }
   ],
   "source": [
    "#checking if everything is converted correclty or not using sql magic command\n",
    "#%sql SELECT * FROM CENSUS_DATA LIMIT 5\n",
    "#%sql SELECT * FROM CHICAGO_CRIME_DATA LIMIT 5\n",
    "%sql SELECT * FROM CHICAGO_PUBLIC_SCHOOLS_DATA LIMIT 5"
   ]
  },
  {
   "cell_type": "markdown",
   "metadata": {
    "id": "JRfwIu3vy859"
   },
   "source": [
    "### Problem 1\n",
    "##### Find the total number of crimes recorded in the CRIME table."
   ]
  },
  {
   "cell_type": "code",
   "execution_count": 26,
   "metadata": {
    "colab": {
     "base_uri": "https://localhost:8080/",
     "height": 96
    },
    "executionInfo": {
     "elapsed": 26,
     "status": "ok",
     "timestamp": 1685145659369,
     "user": {
      "displayName": "Md. Golam Rasul",
      "userId": "02954489655167182379"
     },
     "user_tz": -120
    },
    "id": "4qbO0sgjzA6c",
    "outputId": "1775c567-95f7-41df-ba97-2b63ee7756e0"
   },
   "outputs": [
    {
     "name": "stdout",
     "output_type": "stream",
     "text": [
      " * sqlite:///AssignmentDB.db\n",
      "Done.\n"
     ]
    },
    {
     "data": {
      "text/html": [
       "<table>\n",
       "    <thead>\n",
       "        <tr>\n",
       "            <th>COUNT(*)</th>\n",
       "        </tr>\n",
       "    </thead>\n",
       "    <tbody>\n",
       "        <tr>\n",
       "            <td>533</td>\n",
       "        </tr>\n",
       "    </tbody>\n",
       "</table>"
      ],
      "text/plain": [
       "[(533,)]"
      ]
     },
     "execution_count": 26,
     "metadata": {},
     "output_type": "execute_result"
    }
   ],
   "source": [
    "%sql SELECT COUNT(*) FROM CHICAGO_CRIME_DATA"
   ]
  },
  {
   "cell_type": "markdown",
   "metadata": {
    "id": "CDs8PVF87CgT"
   },
   "source": [
    "### Problem 2\n",
    "##### List community areas with per capita income less than 11000"
   ]
  },
  {
   "cell_type": "code",
   "execution_count": 27,
   "metadata": {
    "colab": {
     "base_uri": "https://localhost:8080/",
     "height": 159
    },
    "executionInfo": {
     "elapsed": 24,
     "status": "ok",
     "timestamp": 1685145659371,
     "user": {
      "displayName": "Md. Golam Rasul",
      "userId": "02954489655167182379"
     },
     "user_tz": -120
    },
    "id": "Hn4zCSSh7CJg",
    "outputId": "806b3f85-ef82-44bc-95c7-0c35770e3404"
   },
   "outputs": [
    {
     "name": "stdout",
     "output_type": "stream",
     "text": [
      " * sqlite:///AssignmentDB.db\n",
      "Done.\n"
     ]
    },
    {
     "data": {
      "text/html": [
       "<table>\n",
       "    <thead>\n",
       "        <tr>\n",
       "            <th>COMMUNITY_AREA_NAME</th>\n",
       "            <th>PER_CAPITA_INCOME</th>\n",
       "        </tr>\n",
       "    </thead>\n",
       "    <tbody>\n",
       "        <tr>\n",
       "            <td>West Garfield Park</td>\n",
       "            <td>10934</td>\n",
       "        </tr>\n",
       "        <tr>\n",
       "            <td>South Lawndale</td>\n",
       "            <td>10402</td>\n",
       "        </tr>\n",
       "        <tr>\n",
       "            <td>Fuller Park</td>\n",
       "            <td>10432</td>\n",
       "        </tr>\n",
       "        <tr>\n",
       "            <td>Riverdale</td>\n",
       "            <td>8201</td>\n",
       "        </tr>\n",
       "    </tbody>\n",
       "</table>"
      ],
      "text/plain": [
       "[('West Garfield Park', 10934),\n",
       " ('South Lawndale', 10402),\n",
       " ('Fuller Park', 10432),\n",
       " ('Riverdale', 8201)]"
      ]
     },
     "execution_count": 27,
     "metadata": {},
     "output_type": "execute_result"
    }
   ],
   "source": [
    "%sql SELECT COMMUNITY_AREA_NAME,PER_CAPITA_INCOME FROM CENSUS_DATA WHERE PER_CAPITA_INCOME < 11000      "
   ]
  },
  {
   "cell_type": "markdown",
   "metadata": {
    "id": "kDlD2yPf8GaP"
   },
   "source": [
    "### Problem 3\n",
    "##### List all case numbers for crimes involving minors?"
   ]
  },
  {
   "cell_type": "code",
   "execution_count": 28,
   "metadata": {
    "colab": {
     "base_uri": "https://localhost:8080/",
     "height": 117
    },
    "executionInfo": {
     "elapsed": 270,
     "status": "ok",
     "timestamp": 1685147777770,
     "user": {
      "displayName": "Md. Golam Rasul",
      "userId": "02954489655167182379"
     },
     "user_tz": -120
    },
    "id": "Or523cxx8NFC",
    "outputId": "6d849428-2279-4a81-b035-0466d5b33946"
   },
   "outputs": [
    {
     "name": "stdout",
     "output_type": "stream",
     "text": [
      " * sqlite:///AssignmentDB.db\n",
      "Done.\n"
     ]
    },
    {
     "data": {
      "text/html": [
       "<table>\n",
       "    <thead>\n",
       "        <tr>\n",
       "            <th>CASE_NUMBER</th>\n",
       "        </tr>\n",
       "    </thead>\n",
       "    <tbody>\n",
       "        <tr>\n",
       "            <td>HL266884</td>\n",
       "        </tr>\n",
       "        <tr>\n",
       "            <td>HK238408</td>\n",
       "        </tr>\n",
       "    </tbody>\n",
       "</table>"
      ],
      "text/plain": [
       "[('HL266884',), ('HK238408',)]"
      ]
     },
     "execution_count": 28,
     "metadata": {},
     "output_type": "execute_result"
    }
   ],
   "source": [
    "%sql SELECT CASE_NUMBER FROM CHICAGO_CRIME_DATA WHERE DESCRIPTION LIKE '%minor%'"
   ]
  },
  {
   "cell_type": "markdown",
   "metadata": {
    "id": "KQ_M3lXJoq15"
   },
   "source": [
    "### Problem 4\n",
    "##### List all kidnapping crimes involving a child?"
   ]
  },
  {
   "cell_type": "code",
   "execution_count": 29,
   "metadata": {
    "colab": {
     "base_uri": "https://localhost:8080/",
     "height": 96
    },
    "executionInfo": {
     "elapsed": 246,
     "status": "ok",
     "timestamp": 1685160857647,
     "user": {
      "displayName": "Md. Golam Rasul",
      "userId": "02954489655167182379"
     },
     "user_tz": -120
    },
    "id": "mzkC8lsHoylZ",
    "outputId": "2aee3457-4118-4ece-c60d-565fc34a93ae"
   },
   "outputs": [
    {
     "name": "stdout",
     "output_type": "stream",
     "text": [
      " * sqlite:///AssignmentDB.db\n",
      "Done.\n"
     ]
    },
    {
     "data": {
      "text/html": [
       "<table>\n",
       "    <thead>\n",
       "        <tr>\n",
       "            <th>PRIMARY_TYPE</th>\n",
       "            <th>CASE_NUMBER</th>\n",
       "        </tr>\n",
       "    </thead>\n",
       "    <tbody>\n",
       "        <tr>\n",
       "            <td>KIDNAPPING</td>\n",
       "            <td>HN144152</td>\n",
       "        </tr>\n",
       "    </tbody>\n",
       "</table>"
      ],
      "text/plain": [
       "[('KIDNAPPING', 'HN144152')]"
      ]
     },
     "execution_count": 29,
     "metadata": {},
     "output_type": "execute_result"
    }
   ],
   "source": [
    "%sql SELECT PRIMARY_TYPE, CASE_NUMBER FROM CHICAGO_CRIME_DATA WHERE PRIMARY_TYPE LIKE '%kidnap%' AND DESCRIPTION LIKE '%child%'"
   ]
  },
  {
   "cell_type": "markdown",
   "metadata": {
    "id": "9haHpSB3prxW"
   },
   "source": [
    "### Problem 5\n",
    "##### What kind of crimes were recorded at schools?"
   ]
  },
  {
   "cell_type": "code",
   "execution_count": 30,
   "metadata": {
    "colab": {
     "base_uri": "https://localhost:8080/",
     "height": 201
    },
    "executionInfo": {
     "elapsed": 247,
     "status": "ok",
     "timestamp": 1685148754081,
     "user": {
      "displayName": "Md. Golam Rasul",
      "userId": "02954489655167182379"
     },
     "user_tz": -120
    },
    "id": "o0lH9UejpwQj",
    "outputId": "bec8ad99-169b-407b-80d1-08e31a4bffcf"
   },
   "outputs": [
    {
     "name": "stdout",
     "output_type": "stream",
     "text": [
      " * sqlite:///AssignmentDB.db\n",
      "Done.\n"
     ]
    },
    {
     "data": {
      "text/html": [
       "<table>\n",
       "    <thead>\n",
       "        <tr>\n",
       "            <th>PRIMARY_TYPE</th>\n",
       "        </tr>\n",
       "    </thead>\n",
       "    <tbody>\n",
       "        <tr>\n",
       "            <td>BATTERY</td>\n",
       "        </tr>\n",
       "        <tr>\n",
       "            <td>CRIMINAL DAMAGE</td>\n",
       "        </tr>\n",
       "        <tr>\n",
       "            <td>NARCOTICS</td>\n",
       "        </tr>\n",
       "        <tr>\n",
       "            <td>ASSAULT</td>\n",
       "        </tr>\n",
       "        <tr>\n",
       "            <td>CRIMINAL TRESPASS</td>\n",
       "        </tr>\n",
       "        <tr>\n",
       "            <td>PUBLIC PEACE VIOLATION</td>\n",
       "        </tr>\n",
       "    </tbody>\n",
       "</table>"
      ],
      "text/plain": [
       "[('BATTERY',),\n",
       " ('CRIMINAL DAMAGE',),\n",
       " ('NARCOTICS',),\n",
       " ('ASSAULT',),\n",
       " ('CRIMINAL TRESPASS',),\n",
       " ('PUBLIC PEACE VIOLATION',)]"
      ]
     },
     "execution_count": 30,
     "metadata": {},
     "output_type": "execute_result"
    }
   ],
   "source": [
    "%sql SELECT DISTINCT PRIMARY_TYPE FROM CHICAGO_CRIME_DATA WHERE LOCATION_DESCRIPTION LIKE '%school%'"
   ]
  },
  {
   "cell_type": "markdown",
   "metadata": {
    "id": "aA55RVmKsgWq"
   },
   "source": [
    "### Problem 6\n",
    "##### List the average safety score for all types of schools."
   ]
  },
  {
   "cell_type": "code",
   "execution_count": 31,
   "metadata": {
    "colab": {
     "base_uri": "https://localhost:8080/",
     "height": 138
    },
    "executionInfo": {
     "elapsed": 226,
     "status": "ok",
     "timestamp": 1685149269708,
     "user": {
      "displayName": "Md. Golam Rasul",
      "userId": "02954489655167182379"
     },
     "user_tz": -120
    },
    "id": "5Q14S34XswFW",
    "outputId": "1d756a22-66a3-41ff-8a00-4637cfb2ff16"
   },
   "outputs": [
    {
     "name": "stdout",
     "output_type": "stream",
     "text": [
      " * sqlite:///AssignmentDB.db\n",
      "(sqlite3.OperationalError) near \"or\": syntax error\n",
      "[SQL: SELECT Elementary, Middle, or High School , AVG(SAFETY_SCORE) AS Average_Safety_Score FROM CHICAGO_PUBLIC_SCHOOLS_DATA GROUP BY Elementary, Middle, or High School]\n",
      "(Background on this error at: https://sqlalche.me/e/20/e3q8)\n"
     ]
    }
   ],
   "source": [
    "%sql SELECT \"Elementary, Middle, or High School\", AVG(SAFETY_SCORE) AS \"Average_Safety_Score\" FROM CHICAGO_PUBLIC_SCHOOLS_DATA GROUP BY \"Elementary, Middle, or High School\""
   ]
  },
  {
   "cell_type": "markdown",
   "metadata": {
    "id": "895N4M6Yucnv"
   },
   "source": [
    "### Problem 7 \n",
    "##### List 5 community areas with highest % of households below poverty line."
   ]
  },
  {
   "cell_type": "code",
   "execution_count": 32,
   "metadata": {
    "colab": {
     "base_uri": "https://localhost:8080/",
     "height": 180
    },
    "executionInfo": {
     "elapsed": 229,
     "status": "ok",
     "timestamp": 1685149710802,
     "user": {
      "displayName": "Md. Golam Rasul",
      "userId": "02954489655167182379"
     },
     "user_tz": -120
    },
    "id": "MO8rKXGYub0h",
    "outputId": "dc2d6b92-2d86-495d-ba62-3ebaa771773d"
   },
   "outputs": [
    {
     "name": "stdout",
     "output_type": "stream",
     "text": [
      " * sqlite:///AssignmentDB.db\n",
      "Done.\n"
     ]
    },
    {
     "data": {
      "text/html": [
       "<table>\n",
       "    <thead>\n",
       "        <tr>\n",
       "            <th>COMMUNITY_AREA_NAME</th>\n",
       "            <th>PERCENT_HOUSEHOLDS_BELOW_POVERTY</th>\n",
       "        </tr>\n",
       "    </thead>\n",
       "    <tbody>\n",
       "        <tr>\n",
       "            <td>Riverdale</td>\n",
       "            <td>56.5</td>\n",
       "        </tr>\n",
       "        <tr>\n",
       "            <td>Fuller Park</td>\n",
       "            <td>51.2</td>\n",
       "        </tr>\n",
       "        <tr>\n",
       "            <td>Englewood</td>\n",
       "            <td>46.6</td>\n",
       "        </tr>\n",
       "        <tr>\n",
       "            <td>North Lawndale</td>\n",
       "            <td>43.1</td>\n",
       "        </tr>\n",
       "        <tr>\n",
       "            <td>East Garfield Park</td>\n",
       "            <td>42.4</td>\n",
       "        </tr>\n",
       "    </tbody>\n",
       "</table>"
      ],
      "text/plain": [
       "[('Riverdale', 56.5),\n",
       " ('Fuller Park', 51.2),\n",
       " ('Englewood', 46.6),\n",
       " ('North Lawndale', 43.1),\n",
       " ('East Garfield Park', 42.4)]"
      ]
     },
     "execution_count": 32,
     "metadata": {},
     "output_type": "execute_result"
    }
   ],
   "source": [
    "%sql SELECT COMMUNITY_AREA_NAME, PERCENT_HOUSEHOLDS_BELOW_POVERTY FROM CENSUS_DATA ORDER BY PERCENT_HOUSEHOLDS_BELOW_POVERTY DESC LIMIT 5"
   ]
  },
  {
   "cell_type": "markdown",
   "metadata": {
    "id": "eYEa_faXwj4G"
   },
   "source": [
    "### Problem 8\n",
    "##### Which community area(number) is most crime prone?"
   ]
  },
  {
   "cell_type": "code",
   "execution_count": 33,
   "metadata": {
    "colab": {
     "base_uri": "https://localhost:8080/",
     "height": 96
    },
    "executionInfo": {
     "elapsed": 249,
     "status": "ok",
     "timestamp": 1685155682537,
     "user": {
      "displayName": "Md. Golam Rasul",
      "userId": "02954489655167182379"
     },
     "user_tz": -120
    },
    "id": "yZIxQhNswjeW",
    "outputId": "b2a448ac-e630-4f1a-efe9-79c3c2c376f5"
   },
   "outputs": [
    {
     "name": "stdout",
     "output_type": "stream",
     "text": [
      " * sqlite:///AssignmentDB.db\n",
      "Done.\n"
     ]
    },
    {
     "data": {
      "text/html": [
       "<table>\n",
       "    <thead>\n",
       "        <tr>\n",
       "            <th>COMMUNITY_AREA_NUMBER</th>\n",
       "        </tr>\n",
       "    </thead>\n",
       "    <tbody>\n",
       "        <tr>\n",
       "            <td>25.0</td>\n",
       "        </tr>\n",
       "    </tbody>\n",
       "</table>"
      ],
      "text/plain": [
       "[(25.0,)]"
      ]
     },
     "execution_count": 33,
     "metadata": {},
     "output_type": "execute_result"
    }
   ],
   "source": [
    "%sql SELECT COMMUNITY_AREA_NUMBER FROM CHICAGO_CRIME_DATA GROUP BY COMMUNITY_AREA_NUMBER ORDER BY COUNT(COMMUNITY_AREA_NUMBER) DESC LIMIT 1"
   ]
  },
  {
   "cell_type": "markdown",
   "metadata": {
    "id": "JlQHiwfT-Ymf"
   },
   "source": [
    "### Problem 9\n",
    "##### Use a sub-query to find the name of the community area with highest hardship index."
   ]
  },
  {
   "cell_type": "code",
   "execution_count": 34,
   "metadata": {
    "colab": {
     "base_uri": "https://localhost:8080/",
     "height": 96
    },
    "executionInfo": {
     "elapsed": 246,
     "status": "ok",
     "timestamp": 1685155252957,
     "user": {
      "displayName": "Md. Golam Rasul",
      "userId": "02954489655167182379"
     },
     "user_tz": -120
    },
    "id": "V6C_3iWA-lDB",
    "outputId": "b5eb3ec7-f8f0-4872-e77d-671ed8167d60"
   },
   "outputs": [
    {
     "name": "stdout",
     "output_type": "stream",
     "text": [
      " * sqlite:///AssignmentDB.db\n",
      "Done.\n"
     ]
    },
    {
     "data": {
      "text/html": [
       "<table>\n",
       "    <thead>\n",
       "        <tr>\n",
       "            <th>COMMUNITY_AREA_NAME</th>\n",
       "        </tr>\n",
       "    </thead>\n",
       "    <tbody>\n",
       "        <tr>\n",
       "            <td>Riverdale</td>\n",
       "        </tr>\n",
       "    </tbody>\n",
       "</table>"
      ],
      "text/plain": [
       "[('Riverdale',)]"
      ]
     },
     "execution_count": 34,
     "metadata": {},
     "output_type": "execute_result"
    }
   ],
   "source": [
    "%sql SELECT COMMUNITY_AREA_NAME FROM CENSUS_DATA WHERE HARDSHIP_INDEX = (SELECT MAX(HARDSHIP_INDEX) FROM CENSUS_DATA)"
   ]
  },
  {
   "cell_type": "markdown",
   "metadata": {
    "id": "OC7OIrOxFcT5"
   },
   "source": [
    "### Problem 10\n",
    "##### Use a sub-query to determine the Community Area Name with most number of crimes?"
   ]
  },
  {
   "cell_type": "markdown",
   "metadata": {
    "id": "_XqV7J58G5fE"
   },
   "source": [
    "Solution 1"
   ]
  },
  {
   "cell_type": "code",
   "execution_count": 35,
   "metadata": {
    "colab": {
     "base_uri": "https://localhost:8080/",
     "height": 96
    },
    "executionInfo": {
     "elapsed": 251,
     "status": "ok",
     "timestamp": 1685155563122,
     "user": {
      "displayName": "Md. Golam Rasul",
      "userId": "02954489655167182379"
     },
     "user_tz": -120
    },
    "id": "2bquW71IFoYz",
    "outputId": "08563e3e-690f-49e1-a11d-d41f6bf0567e"
   },
   "outputs": [
    {
     "name": "stdout",
     "output_type": "stream",
     "text": [
      " * sqlite:///AssignmentDB.db\n",
      "Done.\n"
     ]
    },
    {
     "data": {
      "text/html": [
       "<table>\n",
       "    <thead>\n",
       "        <tr>\n",
       "            <th>COMMUNITY_AREA_NAME</th>\n",
       "        </tr>\n",
       "    </thead>\n",
       "    <tbody>\n",
       "        <tr>\n",
       "            <td>Austin</td>\n",
       "        </tr>\n",
       "    </tbody>\n",
       "</table>"
      ],
      "text/plain": [
       "[('Austin',)]"
      ]
     },
     "execution_count": 35,
     "metadata": {},
     "output_type": "execute_result"
    }
   ],
   "source": [
    "%sql SELECT COMMUNITY_AREA_NAME FROM CENSUS_DATA WHERE COMMUNITY_AREA_NUMBER = (SELECT COMMUNITY_AREA_NUMBER FROM CHICAGO_CRIME_DATA GROUP BY COMMUNITY_AREA_NUMBER ORDER BY COUNT(COMMUNITY_AREA_NUMBER) DESC LIMIT 1)"
   ]
  },
  {
   "cell_type": "markdown",
   "metadata": {
    "id": "uwBv9ABPHIzw"
   },
   "source": [
    "Solution 2 - (From Problem 8, We know the most crime prone community area number is 25)"
   ]
  },
  {
   "cell_type": "code",
   "execution_count": 36,
   "metadata": {
    "colab": {
     "base_uri": "https://localhost:8080/",
     "height": 96
    },
    "executionInfo": {
     "elapsed": 264,
     "status": "ok",
     "timestamp": 1685155927321,
     "user": {
      "displayName": "Md. Golam Rasul",
      "userId": "02954489655167182379"
     },
     "user_tz": -120
    },
    "id": "8Rgg-Jd4HPNx",
    "outputId": "6c10b01a-34a0-4756-de0a-07d98081c4ea"
   },
   "outputs": [
    {
     "name": "stdout",
     "output_type": "stream",
     "text": [
      " * sqlite:///AssignmentDB.db\n",
      "Done.\n"
     ]
    },
    {
     "data": {
      "text/html": [
       "<table>\n",
       "    <thead>\n",
       "        <tr>\n",
       "            <th>COMMUNITY_AREA_NAME</th>\n",
       "        </tr>\n",
       "    </thead>\n",
       "    <tbody>\n",
       "        <tr>\n",
       "            <td>Austin</td>\n",
       "        </tr>\n",
       "    </tbody>\n",
       "</table>"
      ],
      "text/plain": [
       "[('Austin',)]"
      ]
     },
     "execution_count": 36,
     "metadata": {},
     "output_type": "execute_result"
    }
   ],
   "source": [
    "%sql SELECT COMMUNITY_AREA_NAME FROM CENSUS_DATA WHERE COMMUNITY_AREA_NUMBER = 25"
   ]
  }
 ],
 "metadata": {
  "colab": {
   "authorship_tag": "ABX9TyMPINmujGxzCwV9X6YDINm+",
   "provenance": []
  },
  "kernelspec": {
   "display_name": "Python 3 (ipykernel)",
   "language": "python",
   "name": "python3"
  },
  "language_info": {
   "codemirror_mode": {
    "name": "ipython",
    "version": 3
   },
   "file_extension": ".py",
   "mimetype": "text/x-python",
   "name": "python",
   "nbconvert_exporter": "python",
   "pygments_lexer": "ipython3",
   "version": "3.10.9"
  }
 },
 "nbformat": 4,
 "nbformat_minor": 1
}
